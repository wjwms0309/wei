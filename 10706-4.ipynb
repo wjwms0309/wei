{
 "cells": [
  {
   "cell_type": "markdown",
   "metadata": {},
   "source": [
    "## 第 4 題 反序數量\n",
    "### 問題敘述\n",
    "考慮一個數列 A = (a[1], a[2], a[3], ..., a[n] )。如果 A 中兩個數字 a[i]和 a[j]滿足 i < j 且<p>\n",
    "a[i] > a[j]，則我們說(a[i], a[j])是 A 中的一個反序(inversion)。定義 W(A) 為數列 A 中<P>\n",
    "反序的數量。例如，在數列 A = (3, 1, 9, 8, 9, 2)中，<p>\n",
    "一共有 (3, 1)、(3, 2)、(9, 8)、(9, 2)、(8, 2)、(9, 2)一共 6 個反序，所以 W(A) =6。<p><p>\n",
    "\n",
    "給定一個數列 A，計算 W(A) 最簡單的方法是對所有 1  i < j  n 檢查數對(a[i], a[j])，<p>\n",
    "但是在序列太長時，計算時間就會超過給定的時限。<p>\n",
    "以下是運用分而治之 (divide and conquer) 的策略所設計的一個更有效率的計算方法。<p>\n",
    "1. 將 A 等分為前後兩個數列 X 與 Y，其中 X 的長度是 n/2。<p>\n",
    "2. 遞迴計算 W(X) 和 W(Y)。<p>\n",
    "3. 計算 W(A) = W(X) + W(Y) + S(X, Y)，其中 S(X, Y)是由 X 中的數字與 Y 中的數字所<p>\n",
    "### 構成的反序數量。<p>\n",
    "以 A = (3, 1, 9, 8, 9, 2) 為例，W(A) 計算如下。<p>\n",
    "1. 將 A 分為兩個數列 X = (3, 1, 9) 與 Y = (8, 9, 2)。<p>\n",
    "2. 遞迴計算得到 W(X) = 1 和 W(Y) = 2。<p>\n",
    "3. 計算 S(X, Y) = 3。因為有三個反序 (3, 2)、(9, 8)、(9, 2)<p>\n",
    "   是由 X 中的數字與 Y 中的數字所構成。<p>\n",
    "   所以得到 W(A) = W(X) + W(Y) + S(X, Y) = 1+2+3 = 6。<p>\n",
    "\n",
    "請撰寫一個程式，計算一個數列 A 的反序數量 W(A)。<p>\n",
    "#### 輸入格式<p>\n",
    "測試資料有兩列，第一列為一個正整數 n，代表 A 的長度。第二列有 n 個不大於 106<p>\n",
    "的非負整數，代表 a[1], a[2], a[3], ..., a[n]，數字間以空白隔開。<p>\n",
    "#### 輸出格式<p>\n",
    "輸出 A 的反序數量 W(A)。請注意 W(A)可能會超過一個 32-bit 整數所能表示的範圍。<p>\n",
    "範例一：<p>\n",
    "輸入<p>\n",
    "6<p>\n",
    "3 1 9 8 9 2<p>\n",
    "範例一：<p>\n",
    "正確輸出<p>\n",
    "6<p>\n",
    "範例二：<p>\n",
    "輸入<p>\n",
    "5<p>\n",
    "5 5 4 3 1<p>\n",
    "範例二：<p>\n",
    "正確輸出<p>\n",
    "9"
   ]
  },
  {
   "cell_type": "code",
   "execution_count": 76,
   "metadata": {},
   "outputs": [
    {
     "name": "stdout",
     "output_type": "stream",
     "text": [
      "26\n",
      "22 3 3 23 32 45 6 3 4 6 6 8 2 9 3 4 5 6 8 9 2 4 5 69 9 93\n",
      "136\n"
     ]
    }
   ],
   "source": [
    "def sstime(str1,str2):\n",
    "    t,N1,N2=0,len(str1),len(str2)\n",
    "    if N1>11:\n",
    "        N3,strd3,strd4=int(N1/2),[],[]\n",
    "        for i in range(N3):\n",
    "            strd3.append(str1[i])\n",
    "        for j in range(N3,N1):\n",
    "            strd4.append(str1[j])\n",
    "        N4,strd5,strd6=int(N2/2),[],[]\n",
    "        for i in range(N4):strd5.append(str2[i])\n",
    "        for j in range(N4,N2):strd6.append(str2[j])\n",
    "        t=sstime(strd3,strd5)+t\n",
    "        t=sstime(strd3,strd6)+t\n",
    "        t=sstime(strd4,strd5)+t\n",
    "        t=sstime(strd4,strd6)+t\n",
    "    else:\n",
    "        for i in range(N1):\n",
    "            tt=int(str1[i])\n",
    "            for j in range(N2):\n",
    "                td=int(str2[j])\n",
    "                if tt>td:t=t+1\n",
    "    return t\n",
    "def sttime(str_data):\n",
    "    t=0\n",
    "    N=len(str_data)\n",
    "    if N>11:\n",
    "        N1=int(N/2)\n",
    "        strd1=[]\n",
    "        strd2=[]\n",
    "        for i in range(N1):strd1.append(str_data[i])\n",
    "        for j in range(N1,N):strd2.append(str_data[j])\n",
    "        t=sttime(strd1)+t\n",
    "        t=sttime(strd2)+t\n",
    "        t=sstime(strd1,strd2)+t\n",
    "    else:\n",
    "        for i in range(N):\n",
    "            tt=int(str_data[i])\n",
    "            for j in range(i+1,N):\n",
    "                td=int(str_data[j])\n",
    "                if tt>td:t=t+1\n",
    "    return t\n",
    "N=int(input())\n",
    "str_data=input().split()\n",
    "print(sttime(str_data))"
   ]
  },
  {
   "cell_type": "code",
   "execution_count": 80,
   "metadata": {},
   "outputs": [
    {
     "name": "stdout",
     "output_type": "stream",
     "text": [
      "6\n"
     ]
    }
   ],
   "source": [
    "!python p7.py<p701.txt"
   ]
  },
  {
   "cell_type": "code",
   "execution_count": 83,
   "metadata": {},
   "outputs": [
    {
     "name": "stdout",
     "output_type": "stream",
     "text": [
      "9\n"
     ]
    }
   ],
   "source": [
    "!python p7.py<p702.txt"
   ]
  }
 ],
 "metadata": {
  "kernelspec": {
   "display_name": "Python 3",
   "language": "python",
   "name": "python3"
  },
  "language_info": {
   "codemirror_mode": {
    "name": "ipython",
    "version": 3
   },
   "file_extension": ".py",
   "mimetype": "text/x-python",
   "name": "python",
   "nbconvert_exporter": "python",
   "pygments_lexer": "ipython3",
   "version": "3.7.3"
  }
 },
 "nbformat": 4,
 "nbformat_minor": 2
}
