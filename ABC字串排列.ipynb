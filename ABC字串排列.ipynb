{
 "cells": [
  {
   "cell_type": "code",
   "execution_count": 71,
   "metadata": {},
   "outputs": [
    {
     "name": "stdout",
     "output_type": "stream",
     "text": [
      "SDeDD\n",
      "{'SDDDe', 'DDSDe', 'DDDeS', 'DeDDS', 'SeDDD', 'DDSeD', 'DeSDD', 'eDSDD', 'eDDSD', 'SDeDD', 'SDDeD', 'DDeDS', 'DSDDe', 'DDDSe', 'DSeDD', 'eSDDD', 'eDDDS', 'DDeSD', 'DSDeD', 'DeDSD'}\n"
     ]
    }
   ],
   "source": [
    "from itertools import permutations\n",
    "str_ABC=input()\n",
    "str_ABC=list(str_ABC)\n",
    "N=len(str_ABC)\n",
    "stacks=list(permutations(range(N)))\n",
    "NN=len(stacks)\n",
    "ABC=[]\n",
    "for i in range(NN):\n",
    "    A=stacks[i]\n",
    "    NS=len(A)\n",
    "    t=[]\n",
    "    for j in range(NS):\n",
    "        nt=int(A[j])\n",
    "        TT=str_ABC[nt]\n",
    "        t.append(TT)\n",
    "        a=''.join([str(x) for x in t ])\n",
    "    ABC.append(a)\n",
    "ABC=set(ABC)\n",
    "tt=len(ABC)\n",
    "print(ABC)"
   ]
  },
  {
   "cell_type": "code",
   "execution_count": 89,
   "metadata": {},
   "outputs": [],
   "source": [
    "ABC\n",
    "newcount= lambda D:ABC[f'{D}']"
   ]
  },
  {
   "cell_type": "code",
   "execution_count": 95,
   "metadata": {},
   "outputs": [],
   "source": [
    "kk=list(ABC)"
   ]
  },
  {
   "cell_type": "code",
   "execution_count": 97,
   "metadata": {},
   "outputs": [
    {
     "data": {
      "text/plain": [
       "'DDSDe'"
      ]
     },
     "execution_count": 97,
     "metadata": {},
     "output_type": "execute_result"
    }
   ],
   "source": [
    "kk[1]"
   ]
  },
  {
   "cell_type": "code",
   "execution_count": 60,
   "metadata": {},
   "outputs": [],
   "source": [
    "ABC=set(ABC)"
   ]
  },
  {
   "cell_type": "code",
   "execution_count": 61,
   "metadata": {},
   "outputs": [
    {
     "data": {
      "text/plain": [
       "30"
      ]
     },
     "execution_count": 61,
     "metadata": {},
     "output_type": "execute_result"
    }
   ],
   "source": [
    "len(ABC)"
   ]
  },
  {
   "cell_type": "code",
   "execution_count": null,
   "metadata": {},
   "outputs": [],
   "source": []
  }
 ],
 "metadata": {
  "kernelspec": {
   "display_name": "Python 3",
   "language": "python",
   "name": "python3"
  },
  "language_info": {
   "codemirror_mode": {
    "name": "ipython",
    "version": 3
   },
   "file_extension": ".py",
   "mimetype": "text/x-python",
   "name": "python",
   "nbconvert_exporter": "python",
   "pygments_lexer": "ipython3",
   "version": "3.7.3"
  }
 },
 "nbformat": 4,
 "nbformat_minor": 2
}
