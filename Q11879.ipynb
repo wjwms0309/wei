{
 "cells": [
  {
   "cell_type": "code",
   "execution_count": 28,
   "metadata": {},
   "outputs": [
    {
     "name": "stdout",
     "output_type": "stream",
     "text": [
      "1717171717171717171717171717171717171717171717171718\n",
      "0\n"
     ]
    }
   ],
   "source": [
    "N=int(input())\n",
    "\n",
    "d=N%10\n",
    "\n",
    "s=(N-d)/10-5*d\n",
    "\n",
    "if s%17==0:\n",
    "    print(1)\n",
    "else:\n",
    "    print(0)"
   ]
  }
 ],
 "metadata": {
  "kernelspec": {
   "display_name": "Python 3",
   "language": "python",
   "name": "python3"
  }
 },
 "nbformat": 4,
 "nbformat_minor": 2
}
