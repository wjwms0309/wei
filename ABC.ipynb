{
 "cells": [
  {
   "cell_type": "code",
   "execution_count": 3,
   "metadata": {},
   "outputs": [
    {
     "name": "stdout",
     "output_type": "stream",
     "text": [
      "AcCAF\n",
      "\n",
      "AFCcA,FAACc,CAFcA,ACcFA,cAAFC,cAFAC,cAACF,cFAAC,\n",
      "CcAFA,FcACA,CAcFA,FcAAC,AAFcC,CFAAc,cFACA,FAcAC,\n",
      "AcACF,cAFCA,cCAAF,AAcCF,FAcCA,CAcAF,AAFCc,AFcCA,\n",
      "CFcAA,FCAcA,FCcAA,FAAcC,ACFAc,AFACc,CAAFc,CcFAA,\n",
      "FACcA,ACcAF,ACAFc,AFcAC,CAAcF,AFCAc,cACFA,AcAFC,\n",
      "AACFc,ACFcA,cCFAA,cCAFA,AAcFC,CAFAc,FcCAA,cFCAA,\n",
      "ACAcF,AcCFA,cACAF,FCAAc,AcFCA,CcAAF,AcCAF,FACAc,\n",
      "AACcF,AFAcC,CFAcA,AcFAC,"
     ]
    }
   ],
   "source": [
    "from itertools import permutations\n",
    "str_ABC=input()\n",
    "str_ABC=list(str_ABC)\n",
    "N=len(str_ABC)\n",
    "stacks=list(permutations(range(N)))\n",
    "NN=len(stacks)\n",
    "ABC=[]\n",
    "for i in range(NN):\n",
    "    A=stacks[i]\n",
    "    NS=len(A)\n",
    "    t=[]\n",
    "    for j in range(NS):\n",
    "        nt=int(A[j])\n",
    "        TT=str_ABC[nt]\n",
    "        t.append(TT)\n",
    "        a=''.join([str(x) for x in t ])\n",
    "    ABC.append(a)\n",
    "ABC=set(ABC)\n",
    "kk=list(ABC)\n",
    "tt=len(kk)\n",
    "for i in range(tt):\n",
    "    if i%8==0:\n",
    "        print()\n",
    "    print(kk[i],end=\",\")\n"
   ]
  },
  {
   "cell_type": "code",
   "execution_count": 104,
   "metadata": {},
   "outputs": [
    {
     "data": {
      "text/plain": [
       "360"
      ]
     },
     "execution_count": 104,
     "metadata": {},
     "output_type": "execute_result"
    }
   ],
   "source": [
    "len(kk)"
   ]
  },
  {
   "cell_type": "code",
   "execution_count": 106,
   "metadata": {},
   "outputs": [
    {
     "ename": "IndexError",
     "evalue": "list index out of range",
     "output_type": "error",
     "traceback": [
      "\u001b[1;31m---------------------------------------------------------------------------\u001b[0m",
      "\u001b[1;31mIndexError\u001b[0m                                Traceback (most recent call last)",
      "\u001b[1;32m<ipython-input-106-09b27ed0ccf6>\u001b[0m in \u001b[0;36m<module>\u001b[1;34m\u001b[0m\n\u001b[1;32m----> 1\u001b[1;33m \u001b[0mkk\u001b[0m\u001b[1;33m[\u001b[0m\u001b[1;36m360\u001b[0m\u001b[1;33m]\u001b[0m\u001b[1;33m\u001b[0m\u001b[1;33m\u001b[0m\u001b[0m\n\u001b[0m",
      "\u001b[1;31mIndexError\u001b[0m: list index out of range"
     ]
    }
   ],
   "source": [
    "kk[360]"
   ]
  },
  {
   "cell_type": "code",
   "execution_count": 97,
   "metadata": {},
   "outputs": [
    {
     "data": {
      "text/plain": [
       "'DDSDe'"
      ]
     },
     "execution_count": 97,
     "metadata": {},
     "output_type": "execute_result"
    }
   ],
   "source": [
    "kk[1]"
   ]
  },
  {
   "cell_type": "code",
   "execution_count": 60,
   "metadata": {},
   "outputs": [],
   "source": [
    "ABC=set(ABC)"
   ]
  },
  {
   "cell_type": "code",
   "execution_count": 61,
   "metadata": {},
   "outputs": [
    {
     "data": {
      "text/plain": [
       "30"
      ]
     },
     "execution_count": 61,
     "metadata": {},
     "output_type": "execute_result"
    }
   ],
   "source": [
    "len(ABC)"
   ]
  },
  {
   "cell_type": "code",
   "execution_count": null,
   "metadata": {},
   "outputs": [],
   "source": []
  }
 ],
 "metadata": {
  "kernelspec": {
   "display_name": "Python 3",
   "language": "python",
   "name": "python3"
  },
  "language_info": {
   "codemirror_mode": {
    "name": "ipython",
    "version": 3
   },
   "file_extension": ".py",
   "mimetype": "text/x-python",
   "name": "python",
   "nbconvert_exporter": "python",
   "pygments_lexer": "ipython3",
   "version": "3.7.3"
  }
 },
 "nbformat": 4,
 "nbformat_minor": 2
}
