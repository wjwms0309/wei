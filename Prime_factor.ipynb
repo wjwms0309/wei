{
 "cells": [
  {
   "cell_type": "code",
   "execution_count": 63,
   "metadata": {},
   "outputs": [
    {
     "name": "stdout",
     "output_type": "stream",
     "text": [
      "請輸入一個正整數57600\n"
     ]
    },
    {
     "data": {
      "text/markdown": [
       "#### $ 57600=2^8×3^2×5^2$"
      ],
      "text/plain": [
       "<IPython.core.display.Markdown object>"
      ]
     },
     "metadata": {},
     "output_type": "display_data"
    }
   ],
   "source": [
    "%matplotlib inline\n",
    "import numpy as np\n",
    "import matplotlib.pyplot as plt\n",
    "from IPython.display import display,HTML,Markdown,Image,YouTubeVideo\n",
    "n1=input(\"請輸入一個正整數\");k1=int(n1);a=[]\n",
    "for i in range(2,k1):\n",
    "    n=1\n",
    "    while  k1%i == 0 :\n",
    "        b=str(i); k1=k1/i\n",
    "        while k1%i ==0:\n",
    "            n=n+1; k1=k1/i\n",
    "        a.append(b); a.append(n)\n",
    "a1=len(a)\n",
    "if a==[] and k1!=1:    \n",
    "    print(n1,\"為質數\")\n",
    "elif a==[] and k1==1:\n",
    "    print(\"1不是質數，也不是合數\",)\n",
    "else:\n",
    "    md_text='#### $ '+str(n1)+'='\n",
    "\n",
    "    if a1 == 2:\n",
    "        a,b=a[0],a[1]\n",
    "        md_text=md_text+str(a)+'^'+str(b)+'$'\n",
    "        display(Markdown(md_text))\n",
    "    else:\n",
    "        for x in range(1,(a1-2),2):\n",
    "            k = a[x-1]\n",
    "            if a[x]==1:\n",
    "                  md_text=md_text+str(k)+'×'\n",
    "            else :\n",
    "                  b=a[x]\n",
    "                  md_text = md_text+str(k)+'^'+str(b)+'×'\n",
    "        b=a[-2]\n",
    "        md_text=md_text+str(b)\n",
    "        if a[-1]==1:\n",
    "              md_text=md_text+'$'\n",
    "              display(Markdown(md_text))\n",
    "\n",
    "        else :\n",
    "              a=a[-1]\n",
    "              md_text=md_text+'^'+str(a)+'$'        \n",
    "              display(Markdown(md_text))"
   ]
  },
  {
   "cell_type": "code",
   "execution_count": null,
   "metadata": {},
   "outputs": [],
   "source": []
  }
 ],
 "metadata": {
  "kernelspec": {
   "display_name": "Python 3",
   "language": "python",
   "name": "python3"
  },
  "language_info": {
   "codemirror_mode": {
    "name": "ipython",
    "version": 3
   },
   "file_extension": ".py",
   "mimetype": "text/x-python",
   "name": "python",
   "nbconvert_exporter": "python",
   "pygments_lexer": "ipython3",
   "version": "3.7.3"
  }
 },
 "nbformat": 4,
 "nbformat_minor": 2
}
