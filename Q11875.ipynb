{
 "cells": [
  {
   "cell_type": "code",
   "execution_count": 30,
   "metadata": {},
   "outputs": [
    {
     "name": "stdout",
     "output_type": "stream",
     "text": [
      "第一隊的隊長年紀 16 歲\n",
      "第二隊的隊長年紀 16 歲\n"
     ]
    }
   ],
   "source": [
    "d1=[5,19,17,16,14,12 ]  #第一隊所有隊員的年紀資料\n",
    "d2=[5,12,14,16,17,18]   #第二隊所有隊員的年紀資料\n",
    "\n",
    "L1=list(d1)\n",
    "k1=int((len(L1)+1)/2)\n",
    "L2=list(d2)\n",
    "k2=int((len(L1)+1)/2)\n",
    "print(\"第一隊的隊長年紀\",d1[k],\"歲\")\n",
    "print(\"第二隊的隊長年紀\",d2[k],\"歲\")"
   ]
  }
 ],
 "metadata": {
  "kernelspec": {
   "display_name": "Python 3",
   "language": "python",
   "name": "python3"
  },
  "language_info": {
   "codemirror_mode": {
    "name": "ipython",
    "version": 3
   },
   "file_extension": ".py",
   "mimetype": "text/x-python",
   "name": "python",
   "nbconvert_exporter": "python",
   "pygments_lexer": "ipython3",
   "version": "3.7.3"
  }
 },
 "nbformat": 4,
 "nbformat_minor": 2
}
