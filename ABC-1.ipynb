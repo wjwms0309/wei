{
 "cells": [
  {
   "cell_type": "code",
   "execution_count": 3,
   "metadata": {},
   "outputs": [
    {
     "name": "stdout",
     "output_type": "stream",
     "text": [
      "AcCAF\n",
      "\n",
      "AFCcA,FAACc,CAFcA,ACcFA,cAAFC,cAFAC,cAACF,cFAAC,\n",
      "CcAFA,FcACA,CAcFA,FcAAC,AAFcC,CFAAc,cFACA,FAcAC,\n",
      "AcACF,cAFCA,cCAAF,AAcCF,FAcCA,CAcAF,AAFCc,AFcCA,\n",
      "CFcAA,FCAcA,FCcAA,FAAcC,ACFAc,AFACc,CAAFc,CcFAA,\n",
      "FACcA,ACcAF,ACAFc,AFcAC,CAAcF,AFCAc,cACFA,AcAFC,\n",
      "AACFc,ACFcA,cCFAA,cCAFA,AAcFC,CAFAc,FcCAA,cFCAA,\n",
      "ACAcF,AcCFA,cACAF,FCAAc,AcFCA,CcAAF,AcCAF,FACAc,\n",
      "AACcF,AFAcC,CFAcA,AcFAC,"
     ]
    }
   ],
   "source": [
    "from itertools import permutations\n",
    "str_ABC=input()\n",
    "str_ABC=list(str_ABC)\n",
    "N=len(str_ABC)\n",
    "stacks=list(permutations(range(N)))\n",
    "NN=len(stacks)\n",
    "ABC=[]\n",
    "for i in range(NN):\n",
    "    A=stacks[i]\n",
    "    NS=len(A)\n",
    "    t=[]\n",
    "    for j in range(NS):\n",
    "        nt=int(A[j])\n",
    "        TT=str_ABC[nt]\n",
    "        t.append(TT)\n",
    "        a=''.join([str(x) for x in t ])\n",
    "    ABC.append(a)\n",
    "ABC=set(ABC)\n",
    "kk=list(ABC)\n",
    "tt=len(kk)\n",
    "for i in range(tt):\n",
    "    if i%8==0:\n",
    "        print()\n",
    "    print(kk[i],end=\",\")\n"
   ]
  }
 ],
 "metadata": {
  "kernelspec": {
   "display_name": "Python 3",
   "language": "python",
   "name": "python3"
  },
  "language_info": {
   "codemirror_mode": {
    "name": "ipython",
    "version": 3
   },
   "file_extension": ".py",
   "mimetype": "text/x-python",
   "name": "python",
   "nbconvert_exporter": "python",
   "pygments_lexer": "ipython3",
   "version": "3.7.3"
  }
 },
 "nbformat": 4,
 "nbformat_minor": 2
}
