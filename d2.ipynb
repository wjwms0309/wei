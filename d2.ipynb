{
 "cells": [
  {
   "cell_type": "code",
   "execution_count": 17,
   "metadata": {},
   "outputs": [
    {
     "name": "stdout",
     "output_type": "stream",
     "text": [
      "請輸入一個正整數545\n",
      "請再輸入一個正整數365\n",
      "545 與 365 的最大公因數是 5\n",
      "545 與 365 的最小公倍數是 39785\n"
     ]
    }
   ],
   "source": [
    "n1=input(\"請輸入一個正整數\")\n",
    "n2=input(\"請再輸入一個正整數\")\n",
    "k1=int(n1)\n",
    "k2=int(n2)\n",
    "a=[]\n",
    "if k1<k2 :\n",
    "    k1=int(n2)\n",
    "    k2=int(n1)\n",
    "for i in range(1,k2+1):\n",
    "    if k1%i == 0 and k2%i == 0:\n",
    "        b=str(i)\n",
    "        a.append(b)\n",
    "print(n1,\"與\",n2,\"的最大公因數是\",a[-1])\n",
    "t=int(a[-1])\n",
    "s=int(k1*k2/t)\n",
    "print(n1,\"與\",n2,\"的最小公倍數是\",s)\n"
   ]
  }
 ],
 "metadata": {
  "kernelspec": {
   "display_name": "Python 3",
   "language": "python",
   "name": "python3"
  },
  "language_info": {
   "codemirror_mode": {
    "name": "ipython",
    "version": 3
   },
   "file_extension": ".py",
   "mimetype": "text/x-python",
   "name": "python",
   "nbconvert_exporter": "python",
   "pygments_lexer": "ipython3",
   "version": "3.7.3"
  }
 },
 "nbformat": 4,
 "nbformat_minor": 2
}
