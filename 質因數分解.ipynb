{
 "cells": [
  {
   "cell_type": "code",
   "execution_count": 1,
   "metadata": {},
   "outputs": [
    {
     "name": "stdout",
     "output_type": "stream",
     "text": [
      "請輸入一個正整數1234581563\n",
      "1234581563 =19 × 64977977\n"
     ]
    }
   ],
   "source": [
    "n1=input(\"請輸入一個正整數\");k1=int(n1);a=[]\n",
    "for i in range(2,k1):\n",
    "    n=1\n",
    "    while  k1%i == 0 :\n",
    "        b=str(i); k1=k1/i\n",
    "        while k1%i ==0:\n",
    "            n=n+1; k1=k1/i\n",
    "        a.append(b); a.append(n)\n",
    "a1=len(a)\n",
    "if a==[] and k1!=1:    \n",
    "    print(n1,\"為質數\")\n",
    "elif a==[] and k1==1:\n",
    "    print(\"1不是質數，也不是合數\",)\n",
    "else:\n",
    "    print(n1,\"=\",end=\"\")\n",
    "    if a1 == 2:\n",
    "        print(a[0],\"^\",a[1])\n",
    "    else:\n",
    "        for x in range(1,(a1-2),2):\n",
    "            k = a[x-1]\n",
    "            if a[x]==1:\n",
    "                  print(k,\"× \",end='')\n",
    "            else :\n",
    "                  print(k,\"^\",a[x],\"× \",end='')\n",
    "        print(a[-2],end='')\n",
    "        if a[-1]==1:\n",
    "              print('')\n",
    "        else :\n",
    "              print(\"^\",a[-1],end='')         "
   ]
  },
  {
   "cell_type": "code",
   "execution_count": 2,
   "metadata": {},
   "outputs": [
    {
     "data": {
      "text/plain": [
       "1234581563"
      ]
     },
     "execution_count": 2,
     "metadata": {},
     "output_type": "execute_result"
    }
   ],
   "source": [
    "19*64977977"
   ]
  },
  {
   "cell_type": "code",
   "execution_count": null,
   "metadata": {},
   "outputs": [],
   "source": []
  }
 ],
 "metadata": {
  "kernelspec": {
   "display_name": "Python 3",
   "language": "python",
   "name": "python3"
  },
  "language_info": {
   "codemirror_mode": {
    "name": "ipython",
    "version": 3
   },
   "file_extension": ".py",
   "mimetype": "text/x-python",
   "name": "python",
   "nbconvert_exporter": "python",
   "pygments_lexer": "ipython3",
   "version": "3.7.3"
  }
 },
 "nbformat": 4,
 "nbformat_minor": 2
}
