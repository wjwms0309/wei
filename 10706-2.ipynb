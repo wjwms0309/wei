{
 "cells": [
  {
   "cell_type": "markdown",
   "metadata": {},
   "source": [
    "## 第 2 題 完全奇數\n",
    "### 問題描述 \n",
    "####  \n",
    "如果一個正整數的每ㄧ位數都是奇數時，例如：7、19、1759977 等，<p>\n",
    "我們稱這種數字為完全奇數。對於輸入的一正整數 N，<p>\n",
    "如果 K 是最靠近 N 的完全奇數，請寫一程式找<p>\n",
    "出 K 與 N 之間差距的絕對值，也就是說，請計算並輸出| K – N |。<p>\n",
    "以 N = 13256 為例，比 13256 大的最小完全奇數是 13311，<p>\n",
    "比它小的最大完全奇數是13199，<p>\n",
    "因為 | 13311 – 13256 | = 55 < | 13256 – 13199 | = 57，因此輸出 55。<p>\n",
    "\n",
    "### 輸入格式\n",
    "一個正整數 N，N < 1018。<p>\n",
    "### 輸出格式 <P>\n",
    "輸出 N 與其最近的完全奇數的差距。\n",
    "\n",
    "### 範例一：輸入\n",
    "135\n",
    "\n",
    "範例一：正確輸出\n",
    "0\n",
    "\n",
    "### 範例三：輸入\n",
    "35001\n",
    "\n",
    "範例三：正確輸出\n",
    "110\n",
    "\n",
    "範例二：輸入\n",
    "13256\n",
    "\n",
    "### 範例二：正確輸出\n",
    "55\n",
    "\n",
    "範例四：輸入\n",
    "1001\n",
    "\n",
    "### 範例四：正確輸出\n",
    "2\n",
    "\n",
    "評分說明\n",
    "輸入包含若干筆測試資料，每一筆測試資料的執行時間限制均為 1 秒，<p>\n",
    "依正確通過測資筆數給分。其中：<p>\n",
    "第 1 子題組 20 分：N < 100。<p>\n",
    "第 2 子題組 30 分：N < 106。<p>\n",
    "第 3 子題組 50 分：N < 1018。<p>\n"
   ]
  },
  {
   "cell_type": "code",
   "execution_count": 154,
   "metadata": {},
   "outputs": [
    {
     "name": "stdout",
     "output_type": "stream",
     "text": [
      "12345\n",
      "346\n"
     ]
    }
   ],
   "source": [
    "N=int(input())\n",
    "NN=str(N)\n",
    "kkk=len(NN)\n",
    "tt=1\n",
    "k=N\n",
    "p=N\n",
    "\n",
    "for i in range(kkk):\n",
    "    s=int(NN[i])\n",
    "    if s%2 ==0:\n",
    "        tt=tt*0\n",
    "    else:\n",
    "        tt=tt*1\n",
    "if tt==1:\n",
    "    sd=0\n",
    "    se=0\n",
    "else:\n",
    "    s=int(NN[0])\n",
    "    if s%2==0:\n",
    "        s=s-1\n",
    "        NN=[]\n",
    "        NN.append(s)\n",
    "        for i in range(1,kkk):\n",
    "            NN.append('9')\n",
    "        ss=''.join([str(x) for x in NN ])\n",
    "        smal=int(ss)\n",
    "        sd=N-smal\n",
    "    \n",
    "    else:\n",
    "        for i in range(1,kkk):\n",
    "            s=int(NN[i])\n",
    "            if s%2==0:\n",
    "                s0=int(NN[i-1])\n",
    "                if s==0 :\n",
    "                    t=[]\n",
    "                    sb=NN[0:i]\n",
    "                    t.append(sb)\n",
    "                    t.append(str(s))\n",
    "                    sk=''.join([str(x) for x in t ])\n",
    "                    dd=len(sk)\n",
    "                    sk=int(sk)-1\n",
    "                    sk=str(sk)\n",
    "                    ddd=len(sk)\n",
    "                    if ddd<dd:\n",
    "                        sk='0'+sk\n",
    "                        t=[]\n",
    "                        t.append(sk)\n",
    "                        for i in range(i+1,kkk):\n",
    "                            t.append('9')\n",
    "                    else:\n",
    "                        t=[]\n",
    "                        s0=int(NN[i-1])\n",
    "                        s0=str(s0-2)\n",
    "                        sb=NN[0:i-1]\n",
    "                        t.append(sb)\n",
    "                        t.append(s0)\n",
    "                        for i in range(i+1,kkk):\n",
    "                            t.append('9')\n",
    "                    sk=''.join([str(x) for x in t ])\n",
    "                    sk=int(sk)\n",
    "                    sd=N-sk\n",
    "\n",
    "                    break\n",
    "                else:                    \n",
    "                    s=s-1\n",
    "                    t=[]\n",
    "                    sb=NN[0:i]\n",
    "                    t.append(sb)\n",
    "                    t.append(s)\n",
    "                    for j in range(i+1,kkk):\n",
    "                        t.append('9')\n",
    "                    ss =''.join([str(x) for x in t ])\n",
    "                    ss=int(ss)\n",
    "                    sd=N-ss\n",
    "                    break\n",
    "    for i in range(0,kkk):\n",
    "        s=int(NN[i])\n",
    "        if s%2==0:\n",
    "            s=str(s+1)\n",
    "            t=[]\n",
    "            sb=NN[0:i]\n",
    "            t.append(sb)\n",
    "            t.append(s)\n",
    "            for j in range(i+1,kkk):\n",
    "                t.append('1')\n",
    "            ss=''.join([str(x) for x in t ])\n",
    "            maxl=int(ss)\n",
    "            se=maxl-N\n",
    "            break\n",
    "if sd>se:\n",
    "    sd=se\n",
    "print(sd)"
   ]
  },
  {
   "cell_type": "code",
   "execution_count": 1,
   "metadata": {},
   "outputs": [
    {
     "name": "stdout",
     "output_type": "stream",
     "text": [
      "0\n"
     ]
    }
   ],
   "source": [
    "!python p6.py<p601.txt"
   ]
  },
  {
   "cell_type": "code",
   "execution_count": 159,
   "metadata": {},
   "outputs": [
    {
     "name": "stdout",
     "output_type": "stream",
     "text": [
      "55\n"
     ]
    }
   ],
   "source": [
    "!python p6.py<p602.txt"
   ]
  },
  {
   "cell_type": "code",
   "execution_count": 160,
   "metadata": {},
   "outputs": [
    {
     "name": "stdout",
     "output_type": "stream",
     "text": [
      "110\n"
     ]
    }
   ],
   "source": [
    "!python p6.py<p603.txt"
   ]
  },
  {
   "cell_type": "code",
   "execution_count": 161,
   "metadata": {},
   "outputs": [
    {
     "name": "stdout",
     "output_type": "stream",
     "text": [
      "2\n"
     ]
    }
   ],
   "source": [
    "!python p6.py<p604.txt"
   ]
  }
 ],
 "metadata": {
  "kernelspec": {
   "display_name": "Python 3",
   "language": "python",
   "name": "python3"
  },
  "language_info": {
   "codemirror_mode": {
    "name": "ipython",
    "version": 3
   },
   "file_extension": ".py",
   "mimetype": "text/x-python",
   "name": "python",
   "nbconvert_exporter": "python",
   "pygments_lexer": "ipython3",
   "version": "3.7.3"
  }
 },
 "nbformat": 4,
 "nbformat_minor": 2
}
