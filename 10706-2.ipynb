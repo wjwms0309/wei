{
 "cells": [
  {
   "cell_type": "markdown",
   "metadata": {},
   "source": [
    "## 第 2 題 完全奇數\n",
    "### 問題描述 \n",
    "####  \n",
    "如果一個正整數的每ㄧ位數都是奇數時，例如：7、19、1759977 等，<p>\n",
    "我們稱這種數字為完全奇數。對於輸入的一正整數 N，<p>\n",
    "如果 K 是最靠近 N 的完全奇數，請寫一程式找<p>\n",
    "出 K 與 N 之間差距的絕對值，也就是說，請計算並輸出| K – N |。<p>\n",
    "以 N = 13256 為例，比 13256 大的最小完全奇數是 13311，<p>\n",
    "比它小的最大完全奇數是13199，<p>\n",
    "因為 | 13311 – 13256 | = 55 < | 13256 – 13199 | = 57，因此輸出 55。<p>\n",
    "\n",
    "### 輸入格式\n",
    "一個正整數 N，N < 10 ^18 。\n",
    "### 輸出格式 <P>\n",
    "輸出 N 與其最近的完全奇數的差距。\n",
    "\n",
    "### 範例一：輸入\n",
    "135\n",
    "\n",
    "範例一：正確輸出\n",
    "0\n",
    "\n",
    "### 範例三：輸入\n",
    "35001\n",
    "\n",
    "範例三：正確輸出\n",
    "110\n",
    "\n",
    "範例二：輸入\n",
    "13256\n",
    "\n",
    "### 範例二：正確輸出\n",
    "55\n",
    "\n",
    "範例四：輸入\n",
    "1001\n",
    "\n",
    "### 範例四：正確輸出\n",
    "2\n",
    "\n",
    "評分說明\n",
    "輸入包含若干筆測試資料，每一筆測試資料的執行時間限制均為 1 秒，<p>\n",
    "依正確通過測資筆數給分。其中：<p>\n",
    "第 1 子題組 20 分：N < 100。<p>\n",
    "第 2 子題組 30 分：N < 106。<p>\n",
    "第 3 子題組 50 分：N <  10^18 。\n"
   ]
  },
  {
   "cell_type": "code",
   "execution_count": 92,
   "metadata": {},
   "outputs": [
    {
     "name": "stdout",
     "output_type": "stream",
     "text": [
      "1289003\n",
      "22108\n"
     ]
    }
   ],
   "source": [
    "def aba(NN): # 求比 N 還大的完全奇數 之自定函式\n",
    "    kkk=len(NN)\n",
    "    for i in range(0,kkk):# 依最高位數開始檢查是否為偶數\n",
    "        s=int(NN[i])\n",
    "        if s%2==0:   # 若為偶數則此偶數 + 1\n",
    "            s=str(s+1) \n",
    "            t=[]\n",
    "            sb=NN[0:i]\n",
    "            t.append(sb) # 取在此偶數之前的奇數位數\n",
    "            t.append(s)  # 結合 此偶數 +1 後的數\n",
    "            for j in range(i+1,kkk):  #其餘位數皆以 1取代\n",
    "                t.append('1')\n",
    "            ss=''.join([str(x) for x in t ]) \n",
    "            maxl=int(ss) # 形成新的完全奇數\n",
    "            se=maxl-N # 新的奇數與原本數的差\n",
    "            break\n",
    "    return se #回傳新的奇數與原本數的差\n",
    "def abc(TT): # 求比 N 還小的完全奇數 之自定函式\n",
    "    tt=1\n",
    "    NN=str(TT)\n",
    "    kk=len(NN)\n",
    "    for i in range(kk): # 判斷 N 是否為完全奇數\n",
    "        s=int(NN[i])\n",
    "        if s%2==0:\n",
    "            tt=tt*0\n",
    "            break\n",
    "        else:\n",
    "            tt=tt*1\n",
    "            \n",
    "    if tt==1:  #若為完全奇數則直接回傳\n",
    "        return TT\n",
    "    else: # 若不為完全奇數，則找最接近且比 N 小的完全奇數\n",
    "        s=int(NN[0])  # N 的最高位數\n",
    "        if s%2==0:  # 若最高位數為偶數，則將其減 1 剩餘所有位數以 9 取代\n",
    "            s=s-1\n",
    "            NN=[]\n",
    "            NN.append(s)\n",
    "            for i in range(1,kk):\n",
    "                NN.append('9')\n",
    "            ss=''.join([str(x) for x in NN ])\n",
    "            return ss\n",
    "        else:  # 若最高位數非偶數，則以次高位數依序處理\n",
    "            for i in range(1,kk):\n",
    "                s=int(NN[i])\n",
    "                if s%2==0: \n",
    "                    s0=int(NN[i-1])\n",
    "                    if s==0 :  \n",
    "                        t=[]\n",
    "                        sb=NN[0:i]\n",
    "                        t.append(sb)\n",
    "                        t.append(str(s))\n",
    "                        sk=''.join([str(x) for x in t ])\n",
    "                        dd=len(sk)\n",
    "                        sk=int(sk)-1\n",
    "                        sk=str(sk)\n",
    "                        ddd=len(sk)\n",
    "\n",
    "                        if ddd<dd:\n",
    "                            sk='0'+sk\n",
    "                            t=[]\n",
    "                            t.append(sk)\n",
    "                            for i in range(i+1,kk):\n",
    "                                t.append('9')\n",
    "                            sk=''.join([str(x) for x in t ])\n",
    "                            return sk\n",
    "                        else:\n",
    "                            bd=abc(sk)\n",
    "                            t=[]\n",
    "                            t.append(bd)\n",
    "                            for i in range(i+1,kk):\n",
    "                                t.append('9')\n",
    "                            sk=''.join([str(x) for x in t ])\n",
    "                            return sk\n",
    "                    else:                    \n",
    "                        s=s-1\n",
    "                        t=[]\n",
    "                        sb=NN[0:i]\n",
    "                        t.append(sb)\n",
    "                        t.append(s)\n",
    "                        for j in range(i+1,kk):\n",
    "                            t.append('9')\n",
    "                        ss =''.join([str(x) for x in t ])\n",
    "                        return ss\n",
    "\n",
    "\n",
    "N=int(input())  # 輸入一正整數\n",
    "NN=str(N)  #  把 N 從數值轉成名為NN的字串\n",
    "kkk=len(NN)  # kkk為計算字串NN的長度\n",
    "tt=1\n",
    "\n",
    "for i in range(kkk): # 判斷 N 是否為完全奇數\n",
    "    s=int(NN[i])\n",
    "    if s%2 ==0:\n",
    "        tt=tt*0\n",
    "    else:\n",
    "        tt=tt*1\n",
    "if tt==0: # 若不是則分別呼叫往上、往下最接近 N的完全奇數之函式\n",
    "    se =aba(NN) # 回傳的是比 N 大的完全奇數與 N 的差 \n",
    "    sd1 =int(abc(NN))  # 回傳的是比 N 小的完全奇數\n",
    "    sd = N-sd1  # 求其兩者的差\n",
    "    if se<sd:  # 比較誰最接近\n",
    "        sd=se\n",
    "\n",
    "else: # N 本身即為完全奇數\n",
    "    sd=0\n",
    "    se=0\n",
    "print(sd)"
   ]
  },
  {
   "cell_type": "code",
   "execution_count": 86,
   "metadata": {},
   "outputs": [
    {
     "name": "stdout",
     "output_type": "stream",
     "text": [
      "0\n"
     ]
    }
   ],
   "source": [
    "!python p6.py<p601.txt"
   ]
  },
  {
   "cell_type": "code",
   "execution_count": 88,
   "metadata": {},
   "outputs": [
    {
     "name": "stdout",
     "output_type": "stream",
     "text": [
      "55\n"
     ]
    }
   ],
   "source": [
    "!python p6.py<p602.txt"
   ]
  },
  {
   "cell_type": "code",
   "execution_count": 89,
   "metadata": {},
   "outputs": [
    {
     "name": "stdout",
     "output_type": "stream",
     "text": [
      "110\n"
     ]
    }
   ],
   "source": [
    "!python p6.py<p603.txt"
   ]
  },
  {
   "cell_type": "code",
   "execution_count": 90,
   "metadata": {},
   "outputs": [
    {
     "name": "stdout",
     "output_type": "stream",
     "text": [
      "2\n"
     ]
    }
   ],
   "source": [
    "!python p6.py<p604.txt"
   ]
  }
 ],
 "metadata": {
  "kernelspec": {
   "display_name": "Python 3",
   "language": "python",
   "name": "python3"
  },
  "language_info": {
   "codemirror_mode": {
    "name": "ipython",
    "version": 3
   },
   "file_extension": ".py",
   "mimetype": "text/x-python",
   "name": "python",
   "nbconvert_exporter": "python",
   "pygments_lexer": "ipython3",
   "version": "3.7.3"
  }
 },
 "nbformat": 4,
 "nbformat_minor": 2
}
