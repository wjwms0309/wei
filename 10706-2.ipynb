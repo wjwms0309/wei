{
 "cells": [
  {
   "cell_type": "markdown",
   "metadata": {},
   "source": [
    "## 第 2 題 完全奇數\n",
    "### 問題描述\n",
    "如果一個正整數的每ㄧ位數都是奇數時，例如：7、19、1759977 等，<p>\n",
    "\n",
    "我們稱這種數字為完全奇數。對於輸入的一正整數 N，<p>\n",
    "\n",
    "如果 K 是最靠近 N 的完全奇數，請寫一程式找<p>\n",
    "\n",
    "出 K 與 N 之間差距的絕對值，也就是說，請計算並輸出| K – N |。<p>\n",
    "\n",
    "以 N = 13256 為例，比 13256 大的最小完全奇數是 13311，<p>\n",
    "\n",
    "比它小的最大完全奇數是13199，<p>\n",
    "\n",
    "因為 | 13311 – 13256 | = 55 < | 13256 – 13199 | = 57，因此輸出 55。<p>\n",
    "\n",
    "### 輸入格式\n",
    "一個正整數 N，N < 10 ^18 。<p>\n",
    "\n",
    "### 輸出格式\n",
    "輸出 N 與其最近的完全奇數的差距。<p>\n",
    "\n",
    "### 範例一：輸入\n",
    "135<p>\n",
    "\n",
    "範例一：正確輸出<p> 0<p>\n",
    "    \n",
    "### 範例二：輸入 13256\n",
    "\n",
    "範例二：正確輸出<p>55<p>\n",
    "\n",
    "### 範例三：輸入\n",
    "35001<p>\n",
    "\n",
    "範例三：正確輸出<p> 110<p>\n",
    "\n",
    "\n",
    "### 範例四：輸入 1001\n",
    "\n",
    "範例四：正確輸出<p> 2<p>\n",
    "\n",
    "評分說明 輸入包含若干筆測試資料，每一筆測試資料的執行時間限制均為 1 秒，<p>\n",
    "\n",
    "依正確通過測資筆數給分。其中：<p>\n",
    "\n",
    "第 1 子題組 20 分：N < 100。<p>\n",
    "\n",
    "第 2 子題組 30 分：N < 106。<p>\n",
    "\n",
    "第 3 子題組 50 分：N < 10^18 。<p>"
   ]
  },
  {
   "cell_type": "code",
   "execution_count": 23,
   "metadata": {},
   "outputs": [
    {
     "name": "stdout",
     "output_type": "stream",
     "text": [
      "1110892\n",
      "219\n"
     ]
    }
   ],
   "source": [
    "def abk(N):\n",
    "    NN,t=len(N),1\n",
    "    for i in N:\n",
    "        s=int(i)\n",
    "        if s%2==0:t=t*0\n",
    "    if t==1: return int(N)\n",
    "    else:\n",
    "        d,NN=[],len(N)\n",
    "        for i in range(NN):\n",
    "            s=int(N[i])\n",
    "            if s%2==0:\n",
    "                s=s+1\n",
    "                a=N[0:i]\n",
    "                d.append(a)\n",
    "                d.append(s)\n",
    "                for j in range(i+1,NN):d.append(1)\n",
    "                break\n",
    "        d=int(\"\".join([str(x) for x in d]))       \n",
    "        return d\n",
    "def abc(N):\n",
    "    d,NN,t=[],len(N),1\n",
    "    for i in N:\n",
    "        s=int(i)\n",
    "        if s%2==0:t=t*0\n",
    "    if t==1:return N\n",
    "    else:\n",
    "        s0=int(N[0])\n",
    "        if s0%2==0:\n",
    "            s0=s0-1\n",
    "            d.append(s0)\n",
    "            for j in range(1,NN):d.append(9)\n",
    "            d=int(\"\".join([str(x) for x in d])) \n",
    "            return d\n",
    "        else:\n",
    "            for i in range(1,NN):\n",
    "                s=int(N[i])\n",
    "                if s%2==0:\n",
    "                    a=N[0:i]\n",
    "                    d.append(a)\n",
    "                    d.append(s)\n",
    "                    aa=int(\"\".join([str(x) for x in d]))\n",
    "                    ab=aa-1\n",
    "                    len1,len2=len(str(aa)),len(str(ab))\n",
    "                    if len1>len2:\n",
    "                        ab=\"0\"+str(ab)\n",
    "                        tt=[]\n",
    "                        tt.append(ab)\n",
    "                        for j in range(i+1,NN):tt.append(9)\n",
    "                        d=int(\"\".join([str(x) for x in tt]))\n",
    "                        return d\n",
    "                        break\n",
    "                    else:\n",
    "                        ss=abc(str(ab))\n",
    "                        dd=[]\n",
    "                        dd.append(ss)\n",
    "                        for j in range(i+1,NN):dd.append(9)\n",
    "                        d=int(\"\".join([str(x) for x in dd]))\n",
    "                        return d\n",
    "                        break            \n",
    "N=input()  # 輸入一正整數\n",
    "NN=str(N)  #  把 N 數值轉成名為NN的字串\n",
    "kkk=len(NN)  # kkk為計算字串NN的長度\n",
    "sd=int(abk(N))\n",
    "sk=int(abc(N))\n",
    "N=int(N)\n",
    "print(min(abs(sk-N),abs(sd-N)))"
   ]
  },
  {
   "cell_type": "code",
   "execution_count": 19,
   "metadata": {},
   "outputs": [
    {
     "name": "stdout",
     "output_type": "stream",
     "text": [
      "0\n"
     ]
    }
   ],
   "source": [
    "!python p6.py<p601.txt"
   ]
  },
  {
   "cell_type": "code",
   "execution_count": 20,
   "metadata": {},
   "outputs": [
    {
     "name": "stdout",
     "output_type": "stream",
     "text": [
      "55\n"
     ]
    }
   ],
   "source": [
    "!python p6.py<p602.txt"
   ]
  },
  {
   "cell_type": "code",
   "execution_count": 21,
   "metadata": {},
   "outputs": [
    {
     "name": "stdout",
     "output_type": "stream",
     "text": [
      "110\n"
     ]
    }
   ],
   "source": [
    "!python p6.py<p603.txt"
   ]
  },
  {
   "cell_type": "code",
   "execution_count": 22,
   "metadata": {},
   "outputs": [
    {
     "name": "stdout",
     "output_type": "stream",
     "text": [
      "2\n"
     ]
    }
   ],
   "source": [
    "!python p6.py<p604.txt"
   ]
  }
 ],
 "metadata": {
  "kernelspec": {
   "display_name": "Python 3",
   "language": "python",
   "name": "python3"
  },
  "language_info": {
   "codemirror_mode": {
    "name": "ipython",
    "version": 3
   },
   "file_extension": ".py",
   "mimetype": "text/x-python",
   "name": "python",
   "nbconvert_exporter": "python",
   "pygments_lexer": "ipython3",
   "version": "3.7.3"
  }
 },
 "nbformat": 4,
 "nbformat_minor": 2
}
