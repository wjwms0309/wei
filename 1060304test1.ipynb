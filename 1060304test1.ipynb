{
 "cells": [
  {
   "cell_type": "code",
   "execution_count": 2,
   "metadata": {},
   "outputs": [
    {
     "name": "stdout",
     "output_type": "stream",
     "text": [
      "263541\n",
      "3\n"
     ]
    }
   ],
   "source": [
    "n = input() #輸入一個正整數\n",
    "k = 0 # \n",
    "L = 0 # \n",
    "for i in range(0,len(n),2):\n",
    "    k=k +int(n[i]) #與最高位數同為(奇或偶)位數之總和\n",
    "for j in range(1,len(n),2):\n",
    "    L=L+int(n[j])  #與最高位數不同(奇或偶)位數之總和\n",
    "\n",
    "s =abs(k-L) #兩數相減取絕對值\n",
    "print(s)"
   ]
  },
  {
   "cell_type": "code",
   "execution_count": null,
   "metadata": {},
   "outputs": [],
   "source": []
  }
 ],
 "metadata": {
  "kernelspec": {
   "display_name": "Python 3",
   "language": "python",
   "name": "python3"
  },
  "language_info": {
   "codemirror_mode": {
    "name": "ipython",
    "version": 3
   },
   "file_extension": ".py",
   "mimetype": "text/x-python",
   "name": "python",
   "nbconvert_exporter": "python",
   "pygments_lexer": "ipython3",
   "version": "3.7.3"
  }
 },
 "nbformat": 4,
 "nbformat_minor": 2
}
