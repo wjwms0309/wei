{
 "cells": [
  {
   "cell_type": "code",
   "execution_count": 6,
   "metadata": {},
   "outputs": [],
   "source": [
    "from random import randint"
   ]
  },
  {
   "cell_type": "code",
   "execution_count": 7,
   "metadata": {},
   "outputs": [],
   "source": [
    "def game():\n",
    "    k = randint(1,100)\n",
    "    m = float(input(\"請輸入一個數字\"))\n",
    "    while m != k:\n",
    "\n",
    "          if m < k :\n",
    "             print('太小了')\n",
    "             m = float(input(\"請輸入一個數字\"))   \n",
    "          else:\n",
    "             print('太大了')\n",
    "             m = float(input(\"請輸入一個數字\")) \n",
    "\n",
    "    print('恭喜你猜中了')"
   ]
  },
  {
   "cell_type": "code",
   "execution_count": 8,
   "metadata": {},
   "outputs": [
    {
     "name": "stdout",
     "output_type": "stream",
     "text": [
      "請輸入一個數字44\n",
      "太大了\n",
      "請輸入一個數字20\n",
      "太小了\n",
      "請輸入一個數字30\n",
      "太小了\n",
      "請輸入一個數字35\n",
      "太小了\n",
      "請輸入一個數字37\n",
      "太大了\n",
      "請輸入一個數字36\n",
      "恭喜你猜中了\n"
     ]
    }
   ],
   "source": [
    "game()"
   ]
  },
  {
   "cell_type": "code",
   "execution_count": 9,
   "metadata": {},
   "outputs": [
    {
     "name": "stdout",
     "output_type": "stream",
     "text": [
      "請輸入一個數字33\n",
      "太小了\n",
      "請輸入一個數字70\n",
      "太大了\n",
      "請輸入一個數字50\n",
      "太大了\n",
      "請輸入一個數字40\n",
      "太大了\n",
      "請輸入一個數字35\n",
      "太小了\n",
      "請輸入一個數字37\n",
      "太大了\n",
      "請輸入一個數字36\n",
      "恭喜你猜中了\n",
      "-----------------\n",
      "再玩一次?no\n"
     ]
    }
   ],
   "source": [
    "play = True\n",
    "\n",
    "while play:\n",
    "    game()\n",
    "    print('-----------------')\n",
    "    again = input('再玩一次?')\n",
    "    if again == 'no':\n",
    "        play = False"
   ]
  },
  {
   "cell_type": "markdown",
   "metadata": {},
   "source": [
    "### %save \"game2.py\" 75 82 85\n",
    "\n",
    "python game2.py\n"
   ]
  },
  {
   "cell_type": "code",
   "execution_count": 12,
   "metadata": {
    "scrolled": true
   },
   "outputs": [
    {
     "name": "stdout",
     "output_type": "stream",
     "text": [
      "File `game2.py` exists. Overwrite (y/[N])?  Y\n",
      "The following commands were written to file `game2.py`:\n",
      "from random import randint\n",
      "def game():\n",
      "    k = randint(1,100)\n",
      "    m = float(input(\"請輸入一個數字\"))\n",
      "    while m != k:\n",
      "\n",
      "          if m < k :\n",
      "             print('太小了')\n",
      "             m = float(input(\"請輸入一個數字\"))   \n",
      "          else:\n",
      "             print('太大了')\n",
      "             m = float(input(\"請輸入一個數字\")) \n",
      "\n",
      "    print('恭喜你猜中了')\n",
      "game()\n",
      "play = True\n",
      "\n",
      "while play:\n",
      "    game()\n",
      "    print('-----------------')\n",
      "    again = input('再玩一次?')\n",
      "    if again == 'no':\n",
      "        play = False\n"
     ]
    }
   ],
   "source": [
    "%save \"game2.py\"  6 7 8 9"
   ]
  },
  {
   "cell_type": "code",
   "execution_count": null,
   "metadata": {},
   "outputs": [],
   "source": []
  }
 ],
 "metadata": {
  "kernelspec": {
   "display_name": "Python 3",
   "language": "python",
   "name": "python3"
  },
  "language_info": {
   "codemirror_mode": {
    "name": "ipython",
    "version": 3
   },
   "file_extension": ".py",
   "mimetype": "text/x-python",
   "name": "python",
   "nbconvert_exporter": "python",
   "pygments_lexer": "ipython3",
   "version": "3.6.6"
  }
 },
 "nbformat": 4,
 "nbformat_minor": 2
}
