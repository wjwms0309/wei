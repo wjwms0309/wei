{
 "cells": [
  {
   "cell_type": "markdown",
   "metadata": {},
   "source": [
    "## 106 年 03 月 04 日\n",
    "### 第 2 題 小群體\n",
    "### 問題描述\n",
    "\n",
    "Q 同學正在學習程式，P 老師出了以下的題目讓他練習。<p>\n",
    "一群人在一起時經常會形成一個一個的小群體。假設有 N 個人，<p>\n",
    "編號由 0 到 N-1，每個人都寫下他最好朋友的編號<p>\n",
    "（最好朋友有可能是他自己的編號，如果他自己沒有其他好友），<p>\n",
    "    在本題中，每個人的好友編號絕對不會重複，<p>\n",
    "    也就是說 0 到 N-1 每個數字都恰好出現一次。<p>\n",
    "這種好友的關係會形成一些小群體。例如 N=10，好友編號如下，<p>\n",
    "        0 1 2 3 4 5 6 7 8 9<p>\n",
    "好友編號 4 7 2 9 6 0 8 1 5 3<p><p>\n",
    "\n",
    "0 的好友是 4，4 的好友是 6，6 的好友是 8，8 的好友是<p>\n",
    "5，5 的好友是 0，所以 0、4、6、8、和 5 就形成了一個小群體。<p>\n",
    "\n",
    "另外，1 的好友是 7 而且 7 的好友是 1，所以 1 和7 形成另一個小群體<p>\n",
    "\n",
    "同理，3 和 9 是一個小群體<p>\n",
    "\n",
    "而 2 的好友是自己，因此他自己是一個小群體。<p>\n",
    "總而言之，在這個例子裡有 4 個小群體：<p>\n",
    "{0,4,6,8,5}、{1,7}、{3,9}、{2}。<p>\n",
    "    \n",
    "本題的問題是：輸入每個人的好友編號，計算出總共有幾個小群體。<p>\n",
    "Q 同學想了想卻不知如何下手，和藹可親的 P 老師於是給了他以下的提示：<p>\n",
    "如果你從任何一人 x 開始，追蹤他的好友，好友的好友，….，<p>\n",
    "這樣一直下去，一定會形成一個圈回到 x，這就是一個小群體。<p>\n",
    "如果我們追蹤的過程中把追蹤過的加以標記，很容易知道哪些人已經追蹤過，<p>\n",
    "因此，當一個小群體找到之後，我們再從任何一個還未追蹤過的開始<p>繼續找下一個小群體，直到所有的人都追蹤完畢。<p>\n",
    "Q 同學聽完之後很順利的完成了作業。<p>\n",
    "在本題中，你的任務與 Q 同學一樣：給定一群人的好友，請計算出小群體個數。<p><p>\n",
    "#### 輸入格式\n",
    "第一行是一個正整數 N，說明團體中人數。<p>\n",
    "第二行依序是 0 的好友編號、1 的好友編號、……、N-1 的好友編號。<p>\n",
    "共有 N 個數字，包含 0 到 N-1 的每個數字恰好出現一次，<p>\n",
    "數字間會有一個空白隔開。\n",
    "### 輸出格式\n",
    "請輸出小群體的個數。不要有任何多餘的字或空白，並以換行字元結尾。<p>\n",
    "### 範例一：輸入\n",
    "10\n",
    "4 7 2 9 6 0 8 1 5 3<p>\n",
    "[範例一：](https://nbviewer.jupyter.org/github/wjwms0309/wei/blob/master/p301.txt)\n",
    "正確輸出<p>\n",
    "4<p>\n",
    "（說明）<p>\n",
    "4 個小群體是{0,4,6,8,5}, {1,7}, {3,9}和{2}。<p>\n",
    "範例二：輸入<p>\n",
    "3<p>\n",
    "0 2 1<p>\n",
    "[範例二：](https://nbviewer.jupyter.org/github/wjwms0309/wei/blob/master/p302.txt)\n",
    "正確輸出<p>\n",
    "2<p>"
   ]
  },
  {
   "cell_type": "markdown",
   "metadata": {},
   "source": [
    "n = int(input()) # 輸入共有幾筆資料(人數)\n",
    "data =input().split() # 輸入每個人好友是第幾資料位址\n",
    "l=len(data) # 計算總幾筆資料(共幾個人)\n",
    "t=0 #計算組數的變數，從 0 開始\n",
    "for i in range(0,l):\n",
    "    a=i\n",
    "    k=\"\" \n",
    "    while (i != k) & (data[a] != \" \") : #直到形成同組條件才停止\n",
    "        s = a\n",
    "        a = int(data[a]) \n",
    "        data[s]=\" \" #被分過組後清空，避免重覆計次\n",
    "        k = a\n",
    "    if i==k : #符合組數的條件\n",
    "        t=t+1  # 則累計組數+1\n",
    "print(t)         "
   ]
  },
  {
   "cell_type": "code",
   "execution_count": 6,
   "metadata": {},
   "outputs": [
    {
     "name": "stdout",
     "output_type": "stream",
     "text": [
      "4\n"
     ]
    }
   ],
   "source": [
    "!python p3.py<p301.txt"
   ]
  },
  {
   "cell_type": "code",
   "execution_count": 7,
   "metadata": {},
   "outputs": [
    {
     "name": "stdout",
     "output_type": "stream",
     "text": [
      "2\n"
     ]
    }
   ],
   "source": [
    "!python p3.py<p302.txt"
   ]
  }
 ],
 "metadata": {
  "kernelspec": {
   "display_name": "Python 3",
   "language": "python",
   "name": "python3"
  },
  "language_info": {
   "codemirror_mode": {
    "name": "ipython",
    "version": 3
   },
   "file_extension": ".py",
   "mimetype": "text/x-python",
   "name": "python",
   "nbconvert_exporter": "python",
   "pygments_lexer": "ipython3",
   "version": "3.7.3"
  }
 },
 "nbformat": 4,
 "nbformat_minor": 2
}
