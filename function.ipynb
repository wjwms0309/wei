{
 "cells": [
  {
   "cell_type": "code",
   "execution_count": 13,
   "metadata": {},
   "outputs": [
    {
     "data": {
      "text/markdown": [
       " $$a_{1}x+b_{1}y = c_{1} ------ 第一式 $$ "
      ],
      "text/plain": [
       "<IPython.core.display.Markdown object>"
      ]
     },
     "metadata": {},
     "output_type": "display_data"
    },
    {
     "data": {
      "text/markdown": [
       "請輸入三個正整數，數字間用一個空白隔開，"
      ],
      "text/plain": [
       "<IPython.core.display.Markdown object>"
      ]
     },
     "metadata": {},
     "output_type": "display_data"
    },
    {
     "data": {
      "text/markdown": [
       "$$分別代表x項係數a_{1},y項係數b_{1},及常數項c_{1} $$"
      ],
      "text/plain": [
       "<IPython.core.display.Markdown object>"
      ]
     },
     "metadata": {},
     "output_type": "display_data"
    },
    {
     "name": "stdout",
     "output_type": "stream",
     "text": [
      "7 8 -1\n"
     ]
    },
    {
     "data": {
      "text/markdown": [
       " $$a_{2}x+b_{2}y = c_{2} ------ 第二式 $$ "
      ],
      "text/plain": [
       "<IPython.core.display.Markdown object>"
      ]
     },
     "metadata": {},
     "output_type": "display_data"
    },
    {
     "data": {
      "text/markdown": [
       "請輸入三個正整數，數字間用一個空白隔開，"
      ],
      "text/plain": [
       "<IPython.core.display.Markdown object>"
      ]
     },
     "metadata": {},
     "output_type": "display_data"
    },
    {
     "data": {
      "text/markdown": [
       "$$分別代表x項係數a_{2},y項係數b_{2},及常數項c_{2} $$"
      ],
      "text/plain": [
       "<IPython.core.display.Markdown object>"
      ]
     },
     "metadata": {},
     "output_type": "display_data"
    },
    {
     "name": "stdout",
     "output_type": "stream",
     "text": [
      "5 -7 8\n"
     ]
    },
    {
     "data": {
      "text/markdown": [
       "## 您輸入的方程式的分別為:"
      ],
      "text/plain": [
       "<IPython.core.display.Markdown object>"
      ]
     },
     "metadata": {},
     "output_type": "display_data"
    },
    {
     "data": {
      "text/markdown": [
       "## $$ {7}x + {8}y={-1} $$"
      ],
      "text/plain": [
       "<IPython.core.display.Markdown object>"
      ]
     },
     "metadata": {},
     "output_type": "display_data"
    },
    {
     "data": {
      "text/markdown": [
       "## $$ {5}x - {7}y={8} $$"
      ],
      "text/plain": [
       "<IPython.core.display.Markdown object>"
      ]
     },
     "metadata": {},
     "output_type": "display_data"
    },
    {
     "data": {
      "text/markdown": [
       "### 方程式的解為:"
      ],
      "text/plain": [
       "<IPython.core.display.Markdown object>"
      ]
     },
     "metadata": {},
     "output_type": "display_data"
    },
    {
     "data": {
      "text/markdown": [
       "$$ x=\\dfrac{57}{89} , y=\\dfrac{-61}{89} $$"
      ],
      "text/plain": [
       "<IPython.core.display.Markdown object>"
      ]
     },
     "metadata": {},
     "output_type": "display_data"
    }
   ],
   "source": [
    "%matplotlib inline\n",
    "import numpy as np\n",
    "import matplotlib.pyplot as plt\n",
    "from IPython.display import display,HTML,Markdown,Image,YouTubeVideo\n",
    "display(Markdown(' $$a_{1}x+b_{1}y = c_{1} ------ 第一式 $$ '))\n",
    "display(Markdown('請輸入三個正整數，數字間用一個空白隔開，'))\n",
    "display(Markdown('$$分別代表x項係數a_{1},y項係數b_{1},及常數項c_{1} $$' ))\n",
    "\n",
    "a,b,c = input().split() \n",
    "a1,b1,c1 = int(a),int(b),int(c)\n",
    "if a1 < 0:\n",
    "    a1=a1*(-1)\n",
    "    b1=b1*(-1)\n",
    "    c1=c1*(-1)\n",
    "display(Markdown(' $$a_{2}x+b_{2}y = c_{2} ------ 第二式 $$ '))\n",
    "display(Markdown('請輸入三個正整數，數字間用一個空白隔開，'))\n",
    "display(Markdown('$$分別代表x項係數a_{2},y項係數b_{2},及常數項c_{2} $$' ))\n",
    "\n",
    "a,b,c = input().split() \n",
    "a2,b2,c2 = int(a),int(b),int(c)\n",
    "if a2 < 0:\n",
    "    a2=a2*(-1)\n",
    "    b2=b2*(-1)\n",
    "    c2=c2*(-1)\n",
    "\n",
    "\n",
    "x1=b2*a1-b1*a2\n",
    "x2=b2*c1-b1*c2\n",
    "y1=a2*b1-a1*b2\n",
    "y2=a2*c1-a1*c2\n",
    "\n",
    "def dd(n1,n2):\n",
    "    k1=int(n1)\n",
    "    k2=int(n2)\n",
    "    a=[]\n",
    "    if k1<k2 :\n",
    "        k1=int(n2)\n",
    "        k2=int(n1)\n",
    "    for i in range(1,k2+1):\n",
    "        if k1%i == 0 and k2%i == 0:\n",
    "            b=str(i)\n",
    "            a.append(b)\n",
    "    t=int(a[-1])\n",
    "    return t\n",
    "\n",
    "display(Markdown('## 您輸入的方程式的分別為:'))\n",
    "if b1<0:\n",
    "    b3=b1*(-1)\n",
    "    display(Markdown('## $$ {%s}x - {%s}y={%d} $$' %(a1,b3,c1)))\n",
    "else:\n",
    "    display(Markdown('## $$ {%s}x + {%s}y={%d} $$' %(a1,b1,c1)))\n",
    "if b2<0:\n",
    "    b4=b2*(-1)\n",
    "    display(Markdown('## $$ {%s}x - {%s}y={%d} $$' %(a2,b4,c2)))\n",
    "else:\n",
    "    display(Markdown('## $$ {%s}x + {%s}y={%d} $$' %(a2,b2,c2)))\n",
    "\n",
    "n1=abs(x1)\n",
    "n2=abs(x2)\n",
    "if (n1>0) and (n2>0) :\n",
    "    b=dd(n1,n2)\n",
    "    b=int(b)\n",
    "    if n2%n1 == 0:\n",
    "        x=x2/x1\n",
    "        y2=c1-x*a1\n",
    "        if y2==0:\n",
    "            display(Markdown('### 方程式的解為:'))\n",
    "            display(Markdown('### $$ x={%d} , y=0 $$' %(x)))\n",
    "        else:\n",
    "            n3=abs(b1)\n",
    "            n4=abs(y2)\n",
    "            c=dd(n3,n4)\n",
    "            c=int(c)\n",
    "            if n4%n3==0:\n",
    "                y=y2/b1\n",
    "                display(Markdown('### 方程式的解為:'))\n",
    "                display(Markdown('### $$ x={%d} , y={%d} $$' %(x,y)))\n",
    "            else:\n",
    "                y2=y2/c\n",
    "                b1=b1/c\n",
    "                if b1<0 and y2>0:\n",
    "                    y2=y2*(-1)\n",
    "                    b1=abs(b1)\n",
    "                elif b1<0 and y2<0:\n",
    "                    y2=abs(y2)\n",
    "                    b1=abs(b1)\n",
    "                display(Markdown('### 方程式的解為:'))\n",
    "                display(Markdown('$$ x={%d} , y=\\dfrac{%d}{%d} $$' %(x,y2,b1)))\n",
    "    else:\n",
    "        x1=x1/b\n",
    "        x2=x2/b\n",
    "        if x1<0 and x2>0:\n",
    "            x1=abs(x1)\n",
    "            x2=x2*(-1)\n",
    "        elif x1<0 and x2<0:\n",
    "            x1=abs(x1)\n",
    "            x2=abs(x2)\n",
    "        y2=c1*x1-a1*x2\n",
    "        y1=b1*x1\n",
    "        if y2==0:\n",
    "            display(Markdown('### 方程式的解為:'))\n",
    "            display(Markdown('$$ x=\\dfrac{%d}{%d} , y=0 $$' %(x2,x1)))\n",
    "        else:\n",
    "            n3=abs(y1)\n",
    "            n4=abs(y2)\n",
    "            c=dd(n3,n4)\n",
    "            c=int(c)\n",
    "            if y1<0 and y2>0:\n",
    "                y2=y2*(-1)\n",
    "                y1=abs(y1)\n",
    "            elif y1<0 and y2<0:\n",
    "                y2=abs(y2)\n",
    "                y1=abs(y1)\n",
    "            if n4%n3==0:\n",
    "                y=y2/y1\n",
    "                display(Markdown('### 方程式的解為:'))\n",
    "                display(Markdown('### $$ x=\\dfrac{%d}{%d} , y={%d} $$' %(x2,x1,y)))\n",
    "            else:\n",
    "                y2=y2/c\n",
    "                y1=y1/c\n",
    "                display(Markdown('### 方程式的解為:'))\n",
    "                display(Markdown('$$ x=\\dfrac{%d}{%d} , y=\\dfrac{%d}{%d} $$' %(x2,x1,y2,y1)))\n",
    "elif n1==0 and n2==0:\n",
    "     print(\"兩二元一次方程式為同一方程式，此題為無限多組解\")\n",
    "        \n",
    "elif n1==0 and n2!=0:\n",
    "     print(\"兩二元一次方程式為平行線，此題為無相同解\")\n",
    "else:\n",
    "    if c1==0:\n",
    "        display(Markdown('### 方程式的解為:'))\n",
    "        display(Markdown('### x=0 , y=0 '))\n",
    "    else:\n",
    "        n3=abs(b1)\n",
    "        n4=abs(c1)\n",
    "        c=dd(n3,n4)\n",
    "        c=int(c)\n",
    "        if n4%n3==0:\n",
    "            y=y2/b1\n",
    "            display(Markdown('### 方程式的解為:'))\n",
    "            display(Markdown('### $$ x={%d} , y={%d} $$' %(0,y)))\n",
    "        else:\n",
    "            y2=c1/c\n",
    "            b1=b1/c\n",
    "            if b1<0 and y2>0:\n",
    "                b1=abs(b1)\n",
    "                y2=y2*(-1)\n",
    "            elif b1<0 and y2<0:\n",
    "                b1=abs(b1)\n",
    "                y2=abs(y2)\n",
    "            display(Markdown('### 方程式的解為:'))\n",
    "            display(Markdown('$$ x=0 , y=\\dfrac{%d}{%d} $$' %(0,y2,b1)))\n"
   ]
  }
 ],
 "metadata": {
  "kernelspec": {
   "display_name": "Python 3",
   "language": "python",
   "name": "python3"
  },
  "language_info": {
   "codemirror_mode": {
    "name": "ipython",
    "version": 3
   },
   "file_extension": ".py",
   "mimetype": "text/x-python",
   "name": "python",
   "nbconvert_exporter": "python",
   "pygments_lexer": "ipython3",
   "version": "3.7.3"
  }
 },
 "nbformat": 4,
 "nbformat_minor": 2
}
