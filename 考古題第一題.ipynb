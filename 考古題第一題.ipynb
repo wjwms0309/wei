{
 "cells": [
  {
   "cell_type": "code",
   "execution_count": null,
   "metadata": {},
   "outputs": [],
   "source": [
    "N=int(input())\n",
    "data=sorted(int(x) for x in input().split())\n",
    "d1,d2=[],[]\n",
    "for i in data:\n",
    "    if int(i) >=60:d1.append(i)\n",
    "    else:d2.append(i)\n",
    "for i in range(0,N):print(data[i],end=\" \")\n",
    "print()\n",
    "if len(d1)==N:\n",
    "    print(\"best case\")\n",
    "    print(min(d1))\n",
    "elif len(d1)==0:\n",
    "    print(\"worst case\")\n",
    "else:\n",
    "    print(min(d1))\n",
    "    print(max(d2))"
   ]
  },
  {
   "cell_type": "code",
   "execution_count": null,
   "metadata": {},
   "outputs": [],
   "source": [
    "N=sorted([int(x) for x in input().split()])\n",
    "a,b,c=N[0],N[1],N[2]\n",
    "print(a,b,c)\n",
    "if a+b<=c:print('No')\n",
    "elif a*a+b*b<c*c:print(\"Obtuse\")\n",
    "elif a*a+b*b==c*c:print(\"Right\")\n",
    "else:print(\"Acute\")"
   ]
  },
  {
   "cell_type": "code",
   "execution_count": null,
   "metadata": {},
   "outputs": [],
   "source": [
    "n = input() #輸入一個正整數\n",
    "k,L=0,0 # \n",
    "for i in range(0,len(n),2): k=k +int(n[i]) #與最高位數同為(奇或偶)位數之總和\n",
    "for j in range(1,len(n),2): L=L+int(n[j])  #與最高位數不同(奇或偶)位數之總和\n",
    "print(abs(k-L)) #兩數相減取絕對值"
   ]
  },
  {
   "cell_type": "code",
   "execution_count": null,
   "metadata": {},
   "outputs": [],
   "source": [
    "\n",
    "data=input().split()\n",
    "a,b,c=int(data[0]),int(data[1]),int(data[2])\n",
    "def fo(n):\n",
    "    if n:\n",
    "        n=1\n",
    "    return n\n",
    "a=fo(a)  \n",
    "b=fo(b)\n",
    "c=fo(c)\n",
    "\n",
    "T=1\n",
    "if a & b == c:\n",
    "    print('AND')\n",
    "    T = 0\n",
    "if a | b == c:\n",
    "    print('OR')\n",
    "    T = 0\n",
    "if a ^ b == c:\n",
    "    print('XOR')\n",
    "    T = 0\n",
    "if T:           \n",
    "    print(\"IMPOSSIBLE\")"
   ]
  },
  {
   "cell_type": "code",
   "execution_count": null,
   "metadata": {},
   "outputs": [],
   "source": [
    "N = int(input())\n",
    "aa=[]\n",
    "egg =\"\"\n",
    "encode={'0101':'A','0111':'B','0010':'C','1101':'D','1000':'E','1100':'F'}\n",
    "for i in range(N):egg=egg+encode[\"\".join(input().split())]\n",
    "print(egg)"
   ]
  }
 ],
 "metadata": {
  "kernelspec": {
   "display_name": "Python 3",
   "language": "python",
   "name": "python3"
  },
  "language_info": {
   "codemirror_mode": {
    "name": "ipython",
    "version": 3
   },
   "file_extension": ".py",
   "mimetype": "text/x-python",
   "name": "python",
   "nbconvert_exporter": "python",
   "pygments_lexer": "ipython3",
   "version": "3.7.3"
  }
 },
 "nbformat": 4,
 "nbformat_minor": 2
}
