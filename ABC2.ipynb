{
 "cells": [
  {
   "cell_type": "code",
   "execution_count": 90,
   "metadata": {},
   "outputs": [
    {
     "name": "stdout",
     "output_type": "stream",
     "text": [
      "DFdd\n",
      "1 個字母組合\n",
      "{'d', 'D', 'F'}\n",
      "\n",
      "2 個字母組合\n",
      "{'FD', 'DF', 'dF', 'dd', 'dD', 'Fd', 'Dd'}\n",
      "\n",
      "3 個字母組合\n",
      "{'Ddd', 'FdD', 'ddD', 'dFD', 'DFd', 'ddF', 'FDd', 'DdF', 'dFd', 'Fdd', 'dDF', 'dDd'}\n",
      "\n",
      "4 個字母組合\n",
      "{'DddF', 'DFdd', 'dFdD', 'ddFD', 'FDdd', 'dDdF', 'DdFd', 'FdDd', 'FddD', 'dDFd', 'dFDd', 'ddDF'}\n",
      "\n"
     ]
    }
   ],
   "source": [
    "from itertools import permutations\n",
    "def ABC(str_1,N):\n",
    "    list_num = str_1\n",
    "    result = []\n",
    "    for num in permutations(list_num, N):\n",
    "        final_num = ''\n",
    "        for loop in range(0, len(num)):\n",
    "            final_num = final_num + str(num[loop])\n",
    "        result.append(str(final_num))\n",
    "    result=str(set(result))\n",
    "    print(result)\n",
    "str_1=(input())\n",
    "N=len(str_1)\n",
    "for i in range(1,N+1):\n",
    "    print(i,'個字母組合')\n",
    "    result=ABC(str_1,i)\n",
    "    print()    "
   ]
  }
 ],
 "metadata": {
  "kernelspec": {
   "display_name": "Python 3",
   "language": "python",
   "name": "python3"
  },
  "language_info": {
   "codemirror_mode": {
    "name": "ipython",
    "version": 3
   },
   "file_extension": ".py",
   "mimetype": "text/x-python",
   "name": "python",
   "nbconvert_exporter": "python",
   "pygments_lexer": "ipython3",
   "version": "3.7.3"
  }
 },
 "nbformat": 4,
 "nbformat_minor": 2
}
