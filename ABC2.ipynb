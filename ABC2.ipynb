{
 "cells": [
  {
   "cell_type": "code",
   "execution_count": 99,
   "metadata": {},
   "outputs": [
    {
     "name": "stdout",
     "output_type": "stream",
     "text": [
      "AFgg\n",
      "{'F', 'A', 'g'}\n",
      "\n",
      "{('A', 'F'), ('g', 'g'), ('F', 'A'), ('F', 'g'), ('A', 'g'), ('g', 'A'), ('g', 'F')}\n",
      "\n",
      "{('A', 'g', 'g'), ('g', 'A', 'g'), ('g', 'F', 'A'), ('F', 'A', 'g'), ('A', 'g', 'F'), ('g', 'A', 'F'), ('g', 'g', 'A'), ('A', 'F', 'g'), ('g', 'F', 'g'), ('g', 'g', 'F'), ('F', 'g', 'g'), ('F', 'g', 'A')}\n",
      "\n",
      "{('A', 'F', 'g', 'g'), ('F', 'g', 'g', 'A'), ('A', 'g', 'g', 'F'), ('g', 'F', 'A', 'g'), ('g', 'A', 'F', 'g'), ('g', 'g', 'F', 'A'), ('g', 'F', 'g', 'A'), ('F', 'g', 'A', 'g'), ('g', 'A', 'g', 'F'), ('g', 'g', 'A', 'F'), ('F', 'A', 'g', 'g'), ('A', 'g', 'F', 'g')}\n",
      "\n"
     ]
    }
   ],
   "source": [
    "from itertools import permutations\n",
    "def ACC(STT,N):\n",
    "    result=STT\n",
    "    if N!=1:\n",
    "        result = list(permutations(STT,N))\n",
    "    return result\n",
    "                \n",
    "ABC=input()\n",
    "ABC=list(ABC)\n",
    "N=len(ABC)\n",
    "G={}\n",
    "for i in range(1,N+1):\n",
    "    G[i]=ACC(ABC,i)\n",
    "    G[i]=set(G[i])\n",
    "    print(G[i])\n",
    "    print()\n"
   ]
  }
 ],
 "metadata": {
  "kernelspec": {
   "display_name": "Python 3",
   "language": "python",
   "name": "python3"
  },
  "language_info": {
   "codemirror_mode": {
    "name": "ipython",
    "version": 3
   },
   "file_extension": ".py",
   "mimetype": "text/x-python",
   "name": "python",
   "nbconvert_exporter": "python",
   "pygments_lexer": "ipython3",
   "version": "3.7.3"
  }
 },
 "nbformat": 4,
 "nbformat_minor": 2
}
