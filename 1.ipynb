{
 "cells": [
  {
   "cell_type": "markdown",
   "metadata": {},
   "source": [
    "## 第 3 題 數字龍捲風\n",
    "### 問題描述\n",
    "\n",
    "#### 給定一個 N*N 的二維陣列，其中 N 是奇數，我們可以從正中間的位置開始，<p>\n",
    "#### 以順時針旋轉的方式走訪每個陣列元素恰好一次。對於給定的陣列內容與起始方向，<p>\n",
    "####    請輸出走訪順序之內容。下面的例子顯示了 N=5 且第一步往左的走訪順序：<p>\n",
    "#### 依此順序輸出陣列內容則可以得到「9123857324243421496834621」。<p>\n",
    "#### <p> 類似地，如果是第一步向上，則走訪順序如下：\n",
    "#### <p> 依此順序輸出陣列內容則可以得到「9385732124214968346214243」。\n",
    "#### <p>輸入格式輸入第一行是整數 N，N 為奇數且不小於 3。\n",
    "####    第二行是一個 0~3 的整數代表起始方向，\n",
    "#### 其中 0 代表左、1 代表上、2 代表右、3 代表下。第三行開始 N 行是陣列內容，順序\n",
    "#### 是由上而下，由左至右，陣列的內容為 0~9 的整數，同一行數字中間以一個空白間隔。\n",
    "#### 輸出格式\n",
    "#### 請輸出走訪順序的陣列內容，該答案會是一連串的數字，數字之間不要輸出空白，結\n",
    "#### 尾有換行符號。<p>\n",
    "    \n",
    "### 例一：輸入\n",
    "#### 5\n",
    "#### 0\n",
    "#### 3 4 2 1 4\n",
    "#### 4 2 3 8 9\n",
    "#### 2 1 9 5 6\n",
    "#### 4 2 3 7 8\n",
    "#### 1 2 6 4 3\n",
    "\n",
    "### 範例一：正確輸出\n",
    "\n",
    "#### 9123857324243421496834621\n",
    "\n",
    "### 範例二：輸入\n",
    "#### 3\n",
    "#### 1\n",
    "#### 4 1 2\n",
    "#### 3 0 5\n",
    "#### 6 7 8\n",
    "### 範例二：正確輸出\n",
    "#### 012587634\n"
   ]
  },
  {
   "cell_type": "code",
   "execution_count": 31,
   "metadata": {},
   "outputs": [
    {
     "name": "stdout",
     "output_type": "stream",
     "text": [
      "3\n",
      "1\n",
      "3 4 5\n",
      "1 2 3\n",
      "4 5 7\n",
      "245375413"
     ]
    }
   ],
   "source": [
    "n = int(input()) # 輸入N 代表共有 N×N 筆資料\n",
    "s = input() # 輸入第一步 0代表左、1代表上、2代表右、3代表下\n",
    "data={} # 用來裝陣列內容\n",
    "for i in range(n):data[i] =input().split() # 將資料放進去data\n",
    "d1,n1=int(n/2),int(n/2) # 計算起點資料位置＿\n",
    "d=data[d1] \n",
    "n01=d[n1]\n",
    "print(n01,end=\"\")  # 印出起點數值\n",
    "t,end,k=0,0,2*n \n",
    "for i in range(1,k): # 根據 s 的值去找上、下、左、右\n",
    "    if s=='0' and end==0:\n",
    "        bb=int(t/2)+1 \n",
    "        if i==(k-1):bb=bb-1\n",
    "        for i in range(0,bb):\n",
    "            n1=n1-1 \n",
    "            d=data[d1]\n",
    "            n01=d[n1] \n",
    "            print(n01,end=\"\")\n",
    "        s='1'\n",
    "    elif s=='1' and end==0:\n",
    "        bb=int(t/2)+1\n",
    "        if i==(k-1):bb=bb-1\n",
    "        for i in range(0,bb):\n",
    "            d1=d1-1\n",
    "            d=data[d1]\n",
    "            n01=d[n1]\n",
    "            print(n01,end=\"\")\n",
    "        s='2'\n",
    "    elif s=='2' and end==0:\n",
    "        bb=int(t/2)+1\n",
    "        if i==(k-1):bb=bb-1\n",
    "        for i in range(0,bb):\n",
    "            n1=n1+1\n",
    "            d=data[d1]\n",
    "            n01=d[n1]\n",
    "            print(n01,end=\"\")\n",
    "        s='3'    \n",
    "    elif end==0:\n",
    "        bb=int(t/2)+1\n",
    "        if i==(k-1):bb=bb-1\n",
    "        for i in range(0,bb):\n",
    "            d1=d1+1\n",
    "            d=data[d1]\n",
    "            n01=d[n1]\n",
    "            print(n01,end=\"\")\n",
    "        s='0'    \n",
    "    t=t+1"
   ]
  },
  {
   "cell_type": "code",
   "execution_count": 34,
   "metadata": {},
   "outputs": [
    {
     "name": "stdout",
     "output_type": "stream",
     "text": [
      "9123857324243421496834621\n"
     ]
    }
   ],
   "source": [
    "!python p4.py < p4t01.txt"
   ]
  },
  {
   "cell_type": "code",
   "execution_count": 35,
   "metadata": {},
   "outputs": [
    {
     "name": "stdout",
     "output_type": "stream",
     "text": [
      "012587634\n"
     ]
    }
   ],
   "source": [
    "!python p4.py < p4t02.txt"
   ]
  }
 ],
 "metadata": {
  "kernelspec": {
   "display_name": "Python 3",
   "language": "python",
   "name": "python3"
  },
  "language_info": {
   "codemirror_mode": {
    "name": "ipython",
    "version": 3
   },
   "file_extension": ".py",
   "mimetype": "text/x-python",
   "name": "python",
   "nbconvert_exporter": "python",
   "pygments_lexer": "ipython3",
   "version": "3.7.3"
  }
 },
 "nbformat": 4,
 "nbformat_minor": 2
}
