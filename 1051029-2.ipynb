{
 "cells": [
  {
   "cell_type": "code",
   "execution_count": 1,
   "metadata": {},
   "outputs": [
    {
     "name": "stdout",
     "output_type": "stream",
     "text": [
      "4 3\n",
      "6 3 2\n",
      "2 7 9\n",
      "4 7 1\n",
      "9 5 3\n",
      "31\n",
      "-1\n"
     ]
    }
   ],
   "source": [
    "N=input().split()\n",
    "n,A,B,TT=int(N[0]),[],[],[]\n",
    "for i in range(n):A.append(input().split())\n",
    "for i in range(n):B.append(max([int(x) for x in A[i]]))\n",
    "t=sum(B)\n",
    "print(t)\n",
    "for i in B:\n",
    "    if t%i==0:TT.append(i)\n",
    "if TT==[]:print(-1)\n",
    "else:\n",
    "    for i in TT:print(i,end=\" \")"
   ]
  },
  {
   "cell_type": "code",
   "execution_count": 4,
   "metadata": {},
   "outputs": [
    {
     "name": "stdout",
     "output_type": "stream",
     "text": [
      "12\n",
      "6 1 \n"
     ]
    }
   ],
   "source": [
    "!python p1051029-2.py<1051029-2-1.txt"
   ]
  },
  {
   "cell_type": "code",
   "execution_count": 5,
   "metadata": {},
   "outputs": [
    {
     "name": "stdout",
     "output_type": "stream",
     "text": [
      "31\n",
      "-1\n"
     ]
    }
   ],
   "source": [
    "!python p1051029-2.py<1051029-2-2.txt"
   ]
  }
 ],
 "metadata": {
  "kernelspec": {
   "display_name": "Python 3",
   "language": "python",
   "name": "python3"
  },
  "language_info": {
   "codemirror_mode": {
    "name": "ipython",
    "version": 3
   },
   "file_extension": ".py",
   "mimetype": "text/x-python",
   "name": "python",
   "nbconvert_exporter": "python",
   "pygments_lexer": "ipython3",
   "version": "3.7.3"
  }
 },
 "nbformat": 4,
 "nbformat_minor": 2
}
